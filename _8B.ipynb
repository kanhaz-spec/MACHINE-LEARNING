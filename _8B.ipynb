{
  "nbformat": 4,
  "nbformat_minor": 0,
  "metadata": {
    "colab": {
      "provenance": [],
      "authorship_tag": "ABX9TyMyXatA/PbeQYOpSrGiEx1v",
      "include_colab_link": true
    },
    "kernelspec": {
      "name": "python3",
      "display_name": "Python 3"
    },
    "language_info": {
      "name": "python"
    }
  },
  "cells": [
    {
      "cell_type": "markdown",
      "metadata": {
        "id": "view-in-github",
        "colab_type": "text"
      },
      "source": [
        "<a href=\"https://colab.research.google.com/github/kanhaz-spec/MACHINE-LEARNING/blob/main/_8B.ipynb\" target=\"_parent\"><img src=\"https://colab.research.google.com/assets/colab-badge.svg\" alt=\"Open In Colab\"/></a>"
      ]
    },
    {
      "cell_type": "code",
      "execution_count": 9,
      "metadata": {
        "id": "1RBjPJ5STaUM"
      },
      "outputs": [],
      "source": [
        "import numpy as np\n",
        "import matplotlib.pyplot as plt\n",
        "from sklearn.datasets import load_breast_cancer\n",
        "from sklearn.model_selection import train_test_split\n",
        "from sklearn.preprocessing import StandardScaler\n",
        "from sklearn.tree import DecisionTreeRegressor\n",
        "from sklearn.metrics import (\n",
        "    accuracy_score, precision_score, recall_score, f1_score,\n",
        "        roc_auc_score, roc_curve, confusion_matrix, classification_report\n",
        "        )"
      ]
    },
    {
      "cell_type": "code",
      "source": [
        "data = load_breast_cancer()\n",
        "X, y = data.data, data.target"
      ],
      "metadata": {
        "id": "TkmGpQTdUPL3"
      },
      "execution_count": 10,
      "outputs": []
    },
    {
      "cell_type": "code",
      "source": [
        "X_train, X_test, y_train, y_test = train_test_split(\n",
        "      X, y, test_size=0.2, random_state=42, stratify=y\n",
        "      )"
      ],
      "metadata": {
        "id": "vXeXcCujUW2I"
      },
      "execution_count": 11,
      "outputs": []
    },
    {
      "cell_type": "code",
      "source": [
        "scaler = StandardScaler()\n",
        "X_train = scaler.fit_transform(X_train)\n",
        "X_test = scaler.transform(X_test)"
      ],
      "metadata": {
        "id": "gLueqypBUaqc"
      },
      "execution_count": 12,
      "outputs": []
    },
    {
      "cell_type": "code",
      "source": [
        "y_pred_train = np.full(y_train.shape, np.mean(y_train))\n",
        "y_pred_test = np.full(y_test.shape, np.mean(y_train))"
      ],
      "metadata": {
        "id": "sLLWpq-uUbU0"
      },
      "execution_count": 13,
      "outputs": []
    },
    {
      "cell_type": "code",
      "source": [
        "n_estimators = 100\n",
        "learning_rate = 0.1\n"
      ],
      "metadata": {
        "id": "212t1wgIUdk8"
      },
      "execution_count": 14,
      "outputs": []
    },
    {
      "cell_type": "code",
      "source": [
        "for i in range(n_estimators):\n",
        "    residuals = y_train - y_pred_train\n",
        "\n",
        "    tree = DecisionTreeRegressor(max_depth=3, random_state=42)\n",
        "    tree.fit(X_train, residuals)\n",
        "\n",
        "    update = tree.predict(X_train)\n",
        "    update_test = tree.predict(X_test)\n",
        "\n",
        "    y_pred_train += learning_rate * update\n",
        "    y_pred_test += learning_rate * update_test\n",
        "\n",
        "    if (i + 1) % 10 == 0:\n",
        "        loss = np.mean((y_train - y_pred_train) ** 2)\n",
        "        print(f\"Iteration {i+1}/{n_estimators} - Training Loss: {loss:.4f}\")"
      ],
      "metadata": {
        "colab": {
          "base_uri": "https://localhost:8080/"
        },
        "id": "ok7ZqYqVUgsv",
        "outputId": "26d60798-8660-4ff6-9baf-4c0c2025f75f"
      },
      "execution_count": 15,
      "outputs": [
        {
          "output_type": "stream",
          "name": "stdout",
          "text": [
            "Iteration 10/100 - Training Loss: 0.0420\n",
            "Iteration 20/100 - Training Loss: 0.0132\n",
            "Iteration 30/100 - Training Loss: 0.0072\n",
            "Iteration 40/100 - Training Loss: 0.0044\n",
            "Iteration 50/100 - Training Loss: 0.0029\n",
            "Iteration 60/100 - Training Loss: 0.0023\n",
            "Iteration 70/100 - Training Loss: 0.0019\n",
            "Iteration 80/100 - Training Loss: 0.0015\n",
            "Iteration 90/100 - Training Loss: 0.0012\n",
            "Iteration 100/100 - Training Loss: 0.0010\n"
          ]
        }
      ]
    },
    {
      "cell_type": "code",
      "source": [
        "update = tree.predict(X_train)\n",
        "update_test = tree.predict(X_test)"
      ],
      "metadata": {
        "id": "l1YxLXscUmxL"
      },
      "execution_count": 16,
      "outputs": []
    },
    {
      "cell_type": "code",
      "source": [
        "y_pred_train += learning_rate * update\n",
        "y_pred_test += learning_rate * update_test"
      ],
      "metadata": {
        "id": "wMMZH7b7UpHY"
      },
      "execution_count": 17,
      "outputs": []
    },
    {
      "cell_type": "code",
      "source": [
        " if (i + 1) % 10 == 0:\n",
        "    loss = np.mean((y_train - y_pred_train) ** 2)\n",
        "    print(f\"Iteration {i+1}/{n_estimators} - Training Loss: {loss:.4f}\")"
      ],
      "metadata": {
        "colab": {
          "base_uri": "https://localhost:8080/"
        },
        "id": "1THvkhNGUtLk",
        "outputId": "d00f808a-dcbd-4476-e2d9-2a2c1c0a79d5"
      },
      "execution_count": 18,
      "outputs": [
        {
          "output_type": "stream",
          "name": "stdout",
          "text": [
            "Iteration 100/100 - Training Loss: 0.0010\n"
          ]
        }
      ]
    },
    {
      "cell_type": "code",
      "source": [
        "y_pred_binary = (y_pred_test >= 0.5).astype(int)\n"
      ],
      "metadata": {
        "id": "aTjbOpC4UxrG"
      },
      "execution_count": 19,
      "outputs": []
    },
    {
      "cell_type": "code",
      "source": [
        "acc = accuracy_score(y_test, y_pred_binary)\n",
        "prec = precision_score(y_test, y_pred_binary)\n",
        "rec = recall_score(y_test, y_pred_binary)\n",
        "f1 = f1_score(y_test, y_pred_binary)\n",
        "roc_auc = roc_auc_score(y_test, y_pred_test)\n",
        "cm = confusion_matrix(y_test, y_pred_binary)"
      ],
      "metadata": {
        "id": "oeGIkaNtU0I3"
      },
      "execution_count": 20,
      "outputs": []
    },
    {
      "cell_type": "code",
      "source": [
        "print(\"\\n=== Model Evaluation ===\")\n",
        "print(f\"Accuracy:  {acc:.4f}\")\n",
        "print(f\"Precision: {prec:.4f}\")\n",
        "print(f\"Recall:    {rec:.4f}\")\n",
        "print(f\"F1 Score:  {f1:.4f}\")\n",
        "print(f\"ROC AUC:   {roc_auc:.4f}\")\n",
        "print(\"\\nConfusion Matrix:\\n\", cm)\n",
        "print(\"\\nClassification Report:\\n\", classification_report(y_test, y_pred_binary))\n",
        "\n",
        ""
      ],
      "metadata": {
        "colab": {
          "base_uri": "https://localhost:8080/"
        },
        "id": "l6e591u0VCKz",
        "outputId": "5ec2d47c-19e0-44b9-dd48-fb37fa343c22"
      },
      "execution_count": 21,
      "outputs": [
        {
          "output_type": "stream",
          "name": "stdout",
          "text": [
            "\n",
            "=== Model Evaluation ===\n",
            "Accuracy:  0.9386\n",
            "Precision: 0.9452\n",
            "Recall:    0.9583\n",
            "F1 Score:  0.9517\n",
            "ROC AUC:   0.9921\n",
            "\n",
            "Confusion Matrix:\n",
            " [[38  4]\n",
            " [ 3 69]]\n",
            "\n",
            "Classification Report:\n",
            "               precision    recall  f1-score   support\n",
            "\n",
            "           0       0.93      0.90      0.92        42\n",
            "           1       0.95      0.96      0.95        72\n",
            "\n",
            "    accuracy                           0.94       114\n",
            "   macro avg       0.94      0.93      0.93       114\n",
            "weighted avg       0.94      0.94      0.94       114\n",
            "\n"
          ]
        }
      ]
    },
    {
      "cell_type": "code",
      "source": [
        "fpr, tpr, thresholds = roc_curve(y_test, y_pred_test)\n",
        "plt.figure(figsize=(6, 5))\n",
        "plt.plot(fpr, tpr, label=f'ROC Curve (AUC = {roc_auc:.3f})')\n",
        "plt.plot([0, 1], [0, 1], 'k--', label='Random Guess')\n",
        "plt.xlabel(\"False Positive Rate\")\n",
        "plt.ylabel(\"True Positive Rate\")\n",
        "plt.title(\"ROC Curve - Gradient Boosting (Decision Tree Regressor)\")\n",
        "plt.legend()\n",
        "plt.grid(True)\n",
        "plt.show()"
      ],
      "metadata": {
        "colab": {
          "base_uri": "https://localhost:8080/",
          "height": 487
        },
        "id": "4gu-3vCIVFUb",
        "outputId": "c29c08e2-5e88-4862-9d0e-dcf09383ab6d"
      },
      "execution_count": 22,
      "outputs": [
        {
          "output_type": "display_data",
          "data": {
            "text/plain": [
              "<Figure size 600x500 with 1 Axes>"
            ],
            "image/png": "[encoded data removed]"
          },
          "metadata": {}
        }
      ]
    }
  ]
}