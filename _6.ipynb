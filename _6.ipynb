{
  "nbformat": 4,
  "nbformat_minor": 0,
  "metadata": {
    "colab": {
      "provenance": [],
      "authorship_tag": "ABX9TyPBcjbhvfqeattiz2+ZvEzI",
      "include_colab_link": true
    },
    "kernelspec": {
      "name": "python3",
      "display_name": "Python 3"
    },
    "language_info": {
      "name": "python"
    }
  },
  "cells": [
    {
      "cell_type": "markdown",
      "metadata": {
        "id": "view-in-github",
        "colab_type": "text"
      },
      "source": [
        "<a href=\"https://colab.research.google.com/github/kanhaz-spec/MACHINE-LEARNING/blob/main/_6.ipynb\" target=\"_parent\"><img src=\"https://colab.research.google.com/assets/colab-badge.svg\" alt=\"Open In Colab\"/></a>"
      ]
    },
    {
      "cell_type": "code",
      "execution_count": 1,
      "metadata": {
        "id": "sbIuMFpKIUVU"
      },
      "outputs": [],
      "source": [
        "import pandas as pd\n",
        "import numpy as np\n",
        "from sklearn.model_selection import train_test_split, cross_val_score, StratifiedKFold\n",
        "from sklearn.preprocessing import LabelEncoder, StandardScaler\n",
        "from sklearn.svm import SVC\n",
        "from sklearn.metrics import confusion_matrix, accuracy_score, precision_score, recall_score, f1_score\n",
        "import matplotlib.pyplot as plt\n",
        "import seaborn as sns\n"
      ]
    },
    {
      "cell_type": "code",
      "source": [
        "from google.colab import drive\n",
        "drive.mount('/content/drive')"
      ],
      "metadata": {
        "colab": {
          "base_uri": "https://localhost:8080/"
        },
        "id": "N9HeyrowIeze",
        "outputId": "f4488c9a-aee7-4088-dc75-ee5b52461ed7"
      },
      "execution_count": 2,
      "outputs": [
        {
          "output_type": "stream",
          "name": "stdout",
          "text": [
            "Mounted at /content/drive\n"
          ]
        }
      ]
    },
    {
      "cell_type": "code",
      "source": [
        "file_path ='/content/drive/MyDrive/Machine Learning/ObesityDataSet_raw_and_data_sinthetic.csv'\n"
      ],
      "metadata": {
        "id": "PXPteaWFIr4J"
      },
      "execution_count": 3,
      "outputs": []
    },
    {
      "cell_type": "code",
      "source": [
        "df=pd.read_csv(file_path)\n"
      ],
      "metadata": {
        "id": "R0DjZhNxJRpj"
      },
      "execution_count": 4,
      "outputs": []
    },
    {
      "cell_type": "code",
      "source": [
        "print(df.head())\n"
      ],
      "metadata": {
        "colab": {
          "base_uri": "https://localhost:8080/"
        },
        "id": "-0k-FSqxJUeT",
        "outputId": "b223131a-8bf7-49a7-f260-d954683df208"
      },
      "execution_count": 5,
      "outputs": [
        {
          "output_type": "stream",
          "name": "stdout",
          "text": [
            "   Gender   Age  Height  Weight family_history_with_overweight FAVC  FCVC  \\\n",
            "0  Female  21.0    1.62    64.0                            yes   no   2.0   \n",
            "1  Female  21.0    1.52    56.0                            yes   no   3.0   \n",
            "2    Male  23.0    1.80    77.0                            yes   no   2.0   \n",
            "3    Male  27.0    1.80    87.0                             no   no   3.0   \n",
            "4    Male  22.0    1.78    89.8                             no   no   2.0   \n",
            "\n",
            "   NCP       CAEC SMOKE  CH2O  SCC  FAF  TUE        CALC  \\\n",
            "0  3.0  Sometimes    no   2.0   no  0.0  1.0          no   \n",
            "1  3.0  Sometimes   yes   3.0  yes  3.0  0.0   Sometimes   \n",
            "2  3.0  Sometimes    no   2.0   no  2.0  1.0  Frequently   \n",
            "3  3.0  Sometimes    no   2.0   no  2.0  0.0  Frequently   \n",
            "4  1.0  Sometimes    no   2.0   no  0.0  0.0   Sometimes   \n",
            "\n",
            "                  MTRANS           NObeyesdad  \n",
            "0  Public_Transportation        Normal_Weight  \n",
            "1  Public_Transportation        Normal_Weight  \n",
            "2  Public_Transportation        Normal_Weight  \n",
            "3                Walking   Overweight_Level_I  \n",
            "4  Public_Transportation  Overweight_Level_II  \n"
          ]
        }
      ]
    },
    {
      "cell_type": "code",
      "source": [
        "X = df.drop(columns=['NObeyesdad'])\n",
        "y = df['NObeyesdad']"
      ],
      "metadata": {
        "id": "txOllfSnJYJN"
      },
      "execution_count": 6,
      "outputs": []
    },
    {
      "cell_type": "code",
      "source": [
        "from sklearn.preprocessing import LabelEncoder\n",
        "\n",
        "le = LabelEncoder()\n",
        "\n",
        "for col in X.columns:\n",
        "    if X[col].dtype == 'object':\n",
        "                X[col] = le.fit_transform(X[col])\n",
        "\n",
        "                y = le.fit_transform(y)"
      ],
      "metadata": {
        "id": "iC2_iughJeCh"
      },
      "execution_count": 7,
      "outputs": []
    },
    {
      "cell_type": "code",
      "source": [
        "X_train, X_test, y_train, y_test = train_test_split(\n",
        "        X, y, test_size=0.2, random_state=42, stratify=y\n",
        "        )\n"
      ],
      "metadata": {
        "id": "Fny0RUZbJjLs"
      },
      "execution_count": 8,
      "outputs": []
    },
    {
      "cell_type": "code",
      "source": [
        "scaler = StandardScaler()\n",
        "X_train = scaler.fit_transform(X_train)\n",
        "X_test = scaler.transform(X_test)"
      ],
      "metadata": {
        "id": "oIBstXRyKH3Q"
      },
      "execution_count": 9,
      "outputs": []
    },
    {
      "cell_type": "code",
      "source": [
        "def evaluate_svm(kernel_type):\n",
        "   print(f\"\\n==== Kernel: {kernel_type} ====\")\n",
        "   model = SVC(kernel=kernel_type, C=1.0, gamma='scale', random_state=42)\n",
        "   model.fit(X_train, y_train)\n",
        "   y_pred = model.predict(X_test)\n",
        "\n",
        "   cm = confusion_matrix(y_test, y_pred)\n",
        "   acc = accuracy_score(y_test, y_pred)\n",
        "   prec = precision_score(y_test, y_pred, average='weighted')\n",
        "   rec = recall_score(y_test, y_pred, average='weighted')\n",
        "   f1 = f1_score(y_test, y_pred, average='weighted')\n",
        "\n",
        "   print(\"Confusion Matrix:\\n\", cm)\n",
        "   print(f\"Accuracy: {acc:.4f}\")\n",
        "   print(f\"Precision: {prec:.4f}\")\n",
        "   print(f\"Recall: {rec:.4f}\")\n",
        "   print(f\"F1 Score: {f1:.4f}\")\n",
        "\n",
        "   return model, acc, prec, rec, f1"
      ],
      "metadata": {
        "id": "6iJJ9DnpKKrX"
      },
      "execution_count": 10,
      "outputs": []
    },
    {
      "cell_type": "code",
      "source": [
        "kernels = ['linear', 'poly', 'rbf', 'sigmoid']\n",
        "results = {}\n",
        "\n",
        "for k in kernels:\n",
        "    model, acc, prec, rec, f1 = evaluate_svm(k)\n",
        "    results[k] = [acc, prec, rec, f1]"
      ],
      "metadata": {
        "colab": {
          "base_uri": "https://localhost:8080/"
        },
        "id": "w4JBh8U4LJHe",
        "outputId": "160da4f9-c781-4d63-fe6c-4dd66b710374"
      },
      "execution_count": 11,
      "outputs": [
        {
          "output_type": "stream",
          "name": "stdout",
          "text": [
            "\n",
            "==== Kernel: linear ====\n",
            "Confusion Matrix:\n",
            " [[54  0  0  0  0  0  0]\n",
            " [ 5 48  0  0  0  5  0]\n",
            " [ 0  0 68  0  0  0  2]\n",
            " [ 0  0  0 60  0  0  0]\n",
            " [ 0  0  0  1 64  0  0]\n",
            " [ 0  3  0  0  0 54  1]\n",
            " [ 0  0  1  0  0  4 53]]\n",
            "Accuracy: 0.9480\n",
            "Precision: 0.9495\n",
            "Recall: 0.9480\n",
            "F1 Score: 0.9477\n",
            "\n",
            "==== Kernel: poly ====\n",
            "Confusion Matrix:\n",
            " [[51  1  0  0  0  2  0]\n",
            " [ 5 37  4  0  0  6  6]\n",
            " [ 0  1 65  2  0  0  2]\n",
            " [ 0  0  4 56  0  0  0]\n",
            " [ 0  0  0  1 64  0  0]\n",
            " [ 0  9 10  0  0 35  4]\n",
            " [ 1  2 17  0  0  1 37]]\n",
            "Accuracy: 0.8156\n",
            "Precision: 0.8242\n",
            "Recall: 0.8156\n",
            "F1 Score: 0.8127\n",
            "\n",
            "==== Kernel: rbf ====\n",
            "Confusion Matrix:\n",
            " [[50  4  0  0  0  0  0]\n",
            " [ 3 43  1  0  0  9  2]\n",
            " [ 0  2 65  1  0  0  2]\n",
            " [ 0  2  1 57  0  0  0]\n",
            " [ 0  0  0  1 64  0  0]\n",
            " [ 0 10  1  0  0 43  4]\n",
            " [ 0  5  4  1  0  2 46]]\n",
            "Accuracy: 0.8700\n",
            "Precision: 0.8736\n",
            "Recall: 0.8700\n",
            "F1 Score: 0.8710\n",
            "\n",
            "==== Kernel: sigmoid ====\n",
            "Confusion Matrix:\n",
            " [[21 32  0  0  0  1  0]\n",
            " [24 22  0  0  0  9  3]\n",
            " [ 1  0 33 12  0  9 15]\n",
            " [ 0  0 13 47  0  0  0]\n",
            " [ 0  0  0  1 64  0  0]\n",
            " [ 4  9  2  0  0 33 10]\n",
            " [ 6  3 16  1  0 10 22]]\n",
            "Accuracy: 0.5721\n",
            "Precision: 0.5752\n",
            "Recall: 0.5721\n",
            "F1 Score: 0.5728\n"
          ]
        }
      ]
    },
    {
      "cell_type": "code",
      "source": [
        "plt.figure(figsize=(8,5))\n",
        "plt.bar(results.keys(), [v[0] for v in results.values()], color='skyblue')\n",
        "plt.title('SVM Accuracy Comparison for Different Kernels')\n",
        "plt.xlabel('Kernel Type')\n",
        "plt.ylabel('Accuracy')\n",
        "plt.show()"
      ],
      "metadata": {
        "colab": {
          "base_uri": "https://localhost:8080/",
          "height": 487
        },
        "id": "P13aBtPlLRbx",
        "outputId": "8af8e4f1-0ab0-400a-9214-a1f34358de86"
      },
      "execution_count": 12,
      "outputs": [
        {
          "output_type": "display_data",
          "data": {
            "text/plain": [
              "<Figure size 800x500 with 1 Axes>"
            ],
            "image/png": "[encoded data removed]"
          },
          "metadata": {}
        }
      ]
    },
    {
      "cell_type": "code",
      "source": [
        "print(\"\\n===== 5-Fold Cross Validation =====\")\n",
        "cv_results = {}\n",
        "\n",
        "skf = StratifiedKFold(n_splits=5, shuffle=True, random_state=42)\n",
        "\n",
        "for k in kernels:\n",
        "    model = SVC(kernel=k, C=1.0, gamma='scale', random_state=42)\n",
        "    acc = cross_val_score(model, X, y, cv=skf, scoring='accuracy').mean()\n",
        "    prec = cross_val_score(model, X, y, cv=skf, scoring='precision_weighted').mean()\n",
        "    rec = cross_val_score(model, X, y, cv=skf, scoring='recall_weighted').mean()\n",
        "    f1 = cross_val_score(model, X, y, cv=skf, scoring='f1_weighted').mean()\n",
        "    cv_results[k] = [acc, prec, rec, f1]\n",
        "    print(f\"\\nKernel: {k}\")\n",
        "    print(f\"Accuracy: {acc:.4f}, Precision: {prec:.4f}, Recall: {rec:.4f}, F1: {f1:.4f}\")"
      ],
      "metadata": {
        "colab": {
          "base_uri": "https://localhost:8080/"
        },
        "id": "vD7hrODILVqA",
        "outputId": "e7017012-6644-4661-e424-c75a3282d8cb"
      },
      "execution_count": 13,
      "outputs": [
        {
          "output_type": "stream",
          "name": "stdout",
          "text": [
            "\n",
            "===== 5-Fold Cross Validation =====\n",
            "\n",
            "Kernel: linear\n",
            "Accuracy: 0.8754, Precision: 0.8785, Recall: 0.8754, F1: 0.8733\n",
            "\n",
            "Kernel: poly\n",
            "Accuracy: 0.6011, Precision: 0.6080, Recall: 0.6011, F1: 0.5896\n",
            "\n",
            "Kernel: rbf\n",
            "Accuracy: 0.6040, Precision: 0.6079, Recall: 0.6040, F1: 0.5917\n"
          ]
        },
        {
          "output_type": "stream",
          "name": "stderr",
          "text": [
            "/usr/local/lib/python3.12/dist-packages/sklearn/metrics/_classification.py:1565: UndefinedMetricWarning: Precision is ill-defined and being set to 0.0 in labels with no predicted samples. Use `zero_division` parameter to control this behavior.\n",
            "  _warn_prf(average, modifier, f\"{metric.capitalize()} is\", len(result))\n",
            "/usr/local/lib/python3.12/dist-packages/sklearn/metrics/_classification.py:1565: UndefinedMetricWarning: Precision is ill-defined and being set to 0.0 in labels with no predicted samples. Use `zero_division` parameter to control this behavior.\n",
            "  _warn_prf(average, modifier, f\"{metric.capitalize()} is\", len(result))\n",
            "/usr/local/lib/python3.12/dist-packages/sklearn/metrics/_classification.py:1565: UndefinedMetricWarning: Precision is ill-defined and being set to 0.0 in labels with no predicted samples. Use `zero_division` parameter to control this behavior.\n",
            "  _warn_prf(average, modifier, f\"{metric.capitalize()} is\", len(result))\n",
            "/usr/local/lib/python3.12/dist-packages/sklearn/metrics/_classification.py:1565: UndefinedMetricWarning: Precision is ill-defined and being set to 0.0 in labels with no predicted samples. Use `zero_division` parameter to control this behavior.\n",
            "  _warn_prf(average, modifier, f\"{metric.capitalize()} is\", len(result))\n",
            "/usr/local/lib/python3.12/dist-packages/sklearn/metrics/_classification.py:1565: UndefinedMetricWarning: Precision is ill-defined and being set to 0.0 in labels with no predicted samples. Use `zero_division` parameter to control this behavior.\n",
            "  _warn_prf(average, modifier, f\"{metric.capitalize()} is\", len(result))\n"
          ]
        },
        {
          "output_type": "stream",
          "name": "stdout",
          "text": [
            "\n",
            "Kernel: sigmoid\n",
            "Accuracy: 0.0388, Precision: 0.1107, Recall: 0.0388, F1: 0.0178\n"
          ]
        }
      ]
    },
    {
      "cell_type": "code",
      "source": [
        "cv_df = pd.DataFrame(cv_results, index=['Accuracy', 'Precision', 'Recall', 'F1 Score'])\n",
        "cv_df.T.plot(kind='bar', figsize=(8,5))\n",
        "plt.title('5-Fold Cross Validation Results for Different Kernels')\n",
        "plt.ylabel('Score')\n",
        "plt.xticks(rotation=0)\n",
        "plt.show()"
      ],
      "metadata": {
        "colab": {
          "base_uri": "https://localhost:8080/",
          "height": 468
        },
        "id": "C-je2vnvLzWQ",
        "outputId": "22911ee4-cef4-40a2-f1b0-5909508e45f5"
      },
      "execution_count": 14,
      "outputs": [
        {
          "output_type": "display_data",
          "data": {
            "text/plain": [
              "<Figure size 800x500 with 1 Axes>"
            ],
            "image/png": "[encoded data removed]"
          },
          "metadata": {}
        }
      ]
    },
    {
      "cell_type": "code",
      "source": [
        "svm_rbf = SVC(kernel='rbf', C=1.0, gamma='scale', random_state=42)\n",
        "svm_rbf.fit(X_train, y_train)\n",
        "print(\"\\nFirst 5 Support Vectors (RBF kernel):\\n\")\n",
        "print(svm_rbf.support_vectors_[:5])"
      ],
      "metadata": {
        "id": "ighAF8n6L1Ps",
        "outputId": "e1609bc2-9c4f-4579-f79d-09a421d1672f",
        "colab": {
          "base_uri": "https://localhost:8080/"
        }
      },
      "execution_count": 15,
      "outputs": [
        {
          "output_type": "stream",
          "name": "stdout",
          "text": [
            "\n",
            "First 5 Support Vectors (RBF kernel):\n",
            "\n",
            "[[-1.01311923 -0.51797083 -1.93656174 -1.71045422 -2.14661907  0.36973009\n",
            "   1.08020206 -2.17793762 -1.85604788 -0.1497019  -1.66053699 -0.22010726\n",
            "  -1.20444323 -1.08911463 -0.52477628  0.50050071]\n",
            " [-1.01311923 -0.64742967 -1.02537014 -1.60826955 -2.14661907 -2.70467575\n",
            "   1.08020206  0.2653114  -1.85604788 -0.1497019  -1.66053699  4.54323955\n",
            "  -0.29602349 -1.08911463 -0.52477628  0.50050071]\n",
            " [-1.01311923 -0.79780655 -1.42534363 -1.71297411 -2.14661907  0.36973009\n",
            "  -0.67547842 -2.17793762  0.29870372 -0.1497019  -0.55623382 -0.22010726\n",
            "  -1.20444323  1.77318643 -0.52477628  0.50050071]\n",
            " [-1.01311923 -1.13363493 -0.57478733 -1.41851213 -2.14661907  0.36973009\n",
            "   1.08020206  1.13268133  0.29870372 -0.1497019  -0.94540822 -0.22010726\n",
            "   1.15592849  0.57645383 -0.52477628  0.50050071]\n",
            " [-1.01311923 -0.20213259 -1.24630382 -1.61920514 -2.14661907 -2.70467575\n",
            "  -0.42234141 -0.72291548 -1.85604788 -0.1497019   0.16691897 -0.22010726\n",
            "  -0.02929086 -1.08911463  1.41356586  0.50050071]]\n"
          ]
        }
      ]
    }
  ]
}