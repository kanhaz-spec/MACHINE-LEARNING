{
  "nbformat": 4,
  "nbformat_minor": 0,
  "metadata": {
    "colab": {
      "provenance": [],
      "authorship_tag": "ABX9TyNJ3kdpEIojBGSkgzVNaBRb",
      "include_colab_link": true
    },
    "kernelspec": {
      "name": "python3",
      "display_name": "Python 3"
    },
    "language_info": {
      "name": "python"
    }
  },
  "cells": [
    {
      "cell_type": "markdown",
      "metadata": {
        "id": "view-in-github",
        "colab_type": "text"
      },
      "source": [
        "<a href=\"https://colab.research.google.com/github/kanhaz-spec/MACHINE-LEARNING/blob/main/_5.ipynb\" target=\"_parent\"><img src=\"https://colab.research.google.com/assets/colab-badge.svg\" alt=\"Open In Colab\"/></a>"
      ]
    },
    {
      "cell_type": "code",
      "execution_count": 1,
      "metadata": {
        "id": "ApX69oWUER6a"
      },
      "outputs": [],
      "source": [
        "import pandas as pd\n",
        "import numpy as np\n",
        "from sklearn.model_selection import train_test_split\n",
        "from sklearn.neural_network import MLPClassifier\n",
        "from sklearn.metrics import confusion_matrix, accuracy_score, precision_score, recall_score, f1_score\n",
        "import matplotlib.pyplot as plt"
      ]
    },
    {
      "cell_type": "code",
      "source": [
        "from google.colab import drive\n",
        "drive.mount('/content/drive')"
      ],
      "metadata": {
        "colab": {
          "base_uri": "https://localhost:8080/"
        },
        "id": "ZI1DUo9aEhEo",
        "outputId": "febbf96e-c4f8-4d5b-b204-811ff44126bb"
      },
      "execution_count": 2,
      "outputs": [
        {
          "output_type": "stream",
          "name": "stdout",
          "text": [
            "Mounted at /content/drive\n"
          ]
        }
      ]
    },
    {
      "cell_type": "code",
      "source": [
        "file_path ='/content/drive/MyDrive/Machine Learning/data_banknote_authentication.csv'\n"
      ],
      "metadata": {
        "id": "n8-QLVd3EqgQ"
      },
      "execution_count": 5,
      "outputs": []
    },
    {
      "cell_type": "code",
      "source": [
        "df=pd.read_csv(file_path)\n"
      ],
      "metadata": {
        "id": "OsyI-R1qF9zK"
      },
      "execution_count": 6,
      "outputs": []
    },
    {
      "cell_type": "code",
      "source": [
        "print(df.head())\n"
      ],
      "metadata": {
        "colab": {
          "base_uri": "https://localhost:8080/"
        },
        "id": "V2MCxAokGN6Z",
        "outputId": "6bbfed9b-8f47-4f56-eccb-831b72c57f22"
      },
      "execution_count": 7,
      "outputs": [
        {
          "output_type": "stream",
          "name": "stdout",
          "text": [
            "    3.6216  8.6661  -2.8073  -0.44699  0\n",
            "0  4.54590  8.1674  -2.4586  -1.46210  0\n",
            "1  3.86600 -2.6383   1.9242   0.10645  0\n",
            "2  3.45660  9.5228  -4.0112  -3.59440  0\n",
            "3  0.32924 -4.4552   4.5718  -0.98880  0\n",
            "4  4.36840  9.6718  -3.9606  -3.16250  0\n"
          ]
        }
      ]
    },
    {
      "cell_type": "code",
      "source": [
        "X = df.iloc[:, :-1].values\n",
        "y = df.iloc[:, -1].values"
      ],
      "metadata": {
        "id": "UHXDuSQ2GRI4"
      },
      "execution_count": 8,
      "outputs": []
    },
    {
      "cell_type": "code",
      "source": [
        "X_train, X_test, y_train, y_test = train_test_split(\n",
        "      X, y, test_size=0.2, random_state=42\n",
        "      )\n"
      ],
      "metadata": {
        "id": "-HUmzSS1GXmM"
      },
      "execution_count": 9,
      "outputs": []
    },
    {
      "cell_type": "code",
      "source": [
        "mlp = MLPClassifier(hidden_layer_sizes=(10,10),\n",
        "                    activation='relu',\n",
        "                    solver='adam',\n",
        "                    max_iter=500,\n",
        "                    early_stopping=True,\n",
        "                    validation_fraction=0.1,\n",
        "                    random_state=42)\n"
      ],
      "metadata": {
        "id": "fy5ytbXhGdQM"
      },
      "execution_count": 10,
      "outputs": []
    },
    {
      "cell_type": "code",
      "source": [
        "history = mlp.fit(X_train, y_train)\n"
      ],
      "metadata": {
        "id": "EcqujdAOGye_"
      },
      "execution_count": 11,
      "outputs": []
    },
    {
      "cell_type": "code",
      "source": [
        "y_pred = mlp.predict(X_test)\n"
      ],
      "metadata": {
        "id": "-VDpsmT4HBGo"
      },
      "execution_count": 12,
      "outputs": []
    },
    {
      "cell_type": "code",
      "source": [
        "cm = confusion_matrix(y_test, y_pred)\n",
        "acc = accuracy_score(y_test, y_pred)\n",
        "prec = precision_score(y_test, y_pred)\n",
        "rec = recall_score(y_test, y_pred)\n",
        "f1 = f1_score(y_test, y_pred)\n",
        "\n",
        "print(\"Confusion Matrix:\\n\", cm)\n",
        "print(\"Accuracy:\", acc)\n",
        "print(\"Precision:\", prec)\n",
        "print(\"Recall:\", rec)\n",
        "print(\"F1 Score:\", f1)"
      ],
      "metadata": {
        "colab": {
          "base_uri": "https://localhost:8080/"
        },
        "id": "zacd-tWjHD7p",
        "outputId": "2e383345-bc56-40dc-d0f8-ac68e9fdfac4"
      },
      "execution_count": 13,
      "outputs": [
        {
          "output_type": "stream",
          "name": "stdout",
          "text": [
            "Confusion Matrix:\n",
            " [[147   1]\n",
            " [  5 122]]\n",
            "Accuracy: 0.9781818181818182\n",
            "Precision: 0.991869918699187\n",
            "Recall: 0.9606299212598425\n",
            "F1 Score: 0.976\n"
          ]
        }
      ]
    },
    {
      "cell_type": "code",
      "source": [
        "plt.plot(mlp.loss_curve_)\n",
        "plt.title(\"Training Loss Curve\")\n",
        "plt.xlabel(\"Epochs\")\n",
        "plt.ylabel(\"Loss\")\n",
        "plt.show()"
      ],
      "metadata": {
        "colab": {
          "base_uri": "https://localhost:8080/",
          "height": 472
        },
        "id": "--tAP_BaHHhj",
        "outputId": "bf032fb4-91b9-4ac4-ea82-39d3b1449dec"
      },
      "execution_count": 14,
      "outputs": [
        {
          "output_type": "display_data",
          "data": {
            "text/plain": [
              "<Figure size 640x480 with 1 Axes>"
            ],
            "image/png": "[encoded data removed]"
          },
          "metadata": {}
        }
      ]
    },
    {
      "cell_type": "code",
      "source": [
        "for act in ['tanh', 'logistic', 'identity']:\n",
        "      mlp_alt = MLPClassifier(hidden_layer_sizes=(10,10),\n",
        "                                  activation=act,\n",
        "                                  solver='adam',\n",
        "                                  max_iter=500,\n",
        "                                  early_stopping=True,\n",
        "                                  validation_fraction=0.1,\n",
        "                                  random_state=42)\n",
        "      mlp_alt.fit(X_train, y_train)\n",
        "      y_pred_alt = mlp_alt.predict(X_test)\n",
        "      print(f\"\\nActivation: {act}\")\n",
        "      print(\"Accuracy:\", accuracy_score(y_test, y_pred_alt))"
      ],
      "metadata": {
        "colab": {
          "base_uri": "https://localhost:8080/"
        },
        "id": "J8ZcMlNRHN8A",
        "outputId": "870d6389-c52f-471e-ae71-a07a620c15d3"
      },
      "execution_count": 16,
      "outputs": [
        {
          "output_type": "stream",
          "name": "stdout",
          "text": [
            "\n",
            "Activation: tanh\n",
            "Accuracy: 0.9672727272727273\n",
            "\n",
            "Activation: logistic\n",
            "Accuracy: 0.5381818181818182\n",
            "\n",
            "Activation: identity\n",
            "Accuracy: 0.9636363636363636\n"
          ]
        }
      ]
    }
  ]
}